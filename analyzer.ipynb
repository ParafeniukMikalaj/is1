{
 "metadata": {
  "name": ""
 },
 "nbformat": 3,
 "nbformat_minor": 0,
 "worksheets": [
  {
   "cells": [
    {
     "cell_type": "code",
     "collapsed": false,
     "input": [
      "import util\n",
      "import sys\n",
      "import time\n",
      "import matplotlib.pyplot as plt\n",
      "\n",
      "%matplotlib inline"
     ],
     "language": "python",
     "metadata": {},
     "outputs": [],
     "prompt_number": 100
    },
    {
     "cell_type": "code",
     "collapsed": false,
     "input": [
      "sizes = {}\n",
      "fanin = {}\n",
      "fanout = {}\n",
      "distance = {}\n",
      "pagerank = {}\n",
      "root_url = \"http://simple.wikipedia.org\"\n",
      "index = util.restore_obj(\"index-snapshot\")"
     ],
     "language": "python",
     "metadata": {},
     "outputs": [],
     "prompt_number": 89
    },
    {
     "cell_type": "code",
     "collapsed": false,
     "input": [
      "def get_page(index):\n",
      "    return util.read_string(\"pages/%d.html\" % index)\n",
      "\n",
      "def init_fan(fan, index):\n",
      "    if index not in fan:\n",
      "        fan[index] = set()\n",
      "\n",
      "def add_fan(from_index, to_index):\n",
      "    if from_index != to_index:\n",
      "        init_fan(fanout, from_index)\n",
      "        init_fan(fanin, to_index)\n",
      "        fanout[from_index].add(to_index)\n",
      "        fanin[to_index].add(from_index)\n",
      "\n",
      "def calculate_base():\n",
      "    for this_index in index.values():\n",
      "        html = get_page(this_index)\n",
      "        sizes[this_index] = sys.getsizeof(html)\n",
      "        links = util.get_page_links(html)\n",
      "        for l in links:\n",
      "            (is_sub_url, el) = util.expand_link(root_url, l)\n",
      "            if el in index:\n",
      "                that_index = index[el]\n",
      "                add_fan(this_index, that_index)\n",
      "                \n",
      "def calculate_distance():\n",
      "    distance[0] = 0\n",
      "    level = 1\n",
      "    current_level = [0]\n",
      "    next_level = []\n",
      "    while current_level or next_level:\n",
      "        if not current_level:\n",
      "            level += 1\n",
      "            current_level = next_level\n",
      "            next_level = []\n",
      "        else:\n",
      "            current_index = current_level.pop()\n",
      "            if current_index in fanout:\n",
      "                for next_index in fanout[current_index]:\n",
      "                    if next_index not in distance:\n",
      "                        distance[next_index] = level\n",
      "                        next_level.append(next_index)\n",
      "                        \n",
      "def calculate_pagerank():\n",
      "    N = len(index)\n",
      "    d = 0.85\n",
      "    delta_min = 0.001\n",
      "    delta = 1\n",
      "    current_level = [1.0/N for i in xrange(N)]\n",
      "    next_level = [(1.0-d)/N for i in xrange(N)]\n",
      "    iteration = 1\n",
      "    while delta > delta_min:\n",
      "        for this_index in index.values():\n",
      "            if this_index in fanout:\n",
      "                M = fanout[this_index]\n",
      "                for to_index in M:\n",
      "                    next_level[to_index] += d * current_level[this_index]/len(M)\n",
      "    \n",
      "        delta = sum([abs(next_level[i] - current_level[i])/current_level[i] for i in xrange(N)])/N\n",
      "        print \"delta is %f on %d iteration\" % (delta, iteration)\n",
      "        current_level = next_level\n",
      "        next_level = [(1.0-d)/N for i in xrange(N)]\n",
      "        iteration += 1\n",
      "    \n",
      "    for i in xrange(N):\n",
      "        pagerank[i] = current_level[i]\n",
      "                "
     ],
     "language": "python",
     "metadata": {},
     "outputs": [],
     "prompt_number": 93
    },
    {
     "cell_type": "code",
     "collapsed": false,
     "input": [
      "calculate_base()\n",
      "calculate_distance()\n",
      "calculate_pagerank()"
     ],
     "language": "python",
     "metadata": {},
     "outputs": [],
     "prompt_number": 94
    },
    {
     "cell_type": "code",
     "collapsed": false,
     "input": [
      "def show_sizes_hist():\n",
      "    size_values = [s/1000 for s in sizes.values() if s/1000<500]\n",
      "    fig = plt.figure()\n",
      "    ax = fig.add_subplot(111)\n",
      "    ax.hist(size_values, 100)\n",
      "    ax.set_xlim(0, 400)\n",
      "    ax.set_title(\"Page size distribution\")\n",
      "    ax.set_xlabel(\"Size in kB\")\n",
      "    ax.set_ylabel(\"Number of pages\")"
     ],
     "language": "python",
     "metadata": {},
     "outputs": [],
     "prompt_number": 202
    },
    {
     "cell_type": "code",
     "collapsed": false,
     "input": [
      "def show_fan_hist(fan, label):\n",
      "    fan_levels = [len(f) for f in fan.values() if len(f) < 100]\n",
      "    fig = plt.figure()\n",
      "    ax = fig.add_subplot(111)\n",
      "    ax.hist(fan_levels, 50)\n",
      "    ax.set_xlim(0, 100)\n",
      "    ax.set_title(label)\n",
      "    ax.set_xlabel(\"N\")\n",
      "    ax.set_ylabel(\"Number\")\n",
      "    \n",
      "def show_fan_in_hist():\n",
      "    show_fan_hist(fanin, \"Fan in\")\n",
      "    \n",
      "def show_fan_out_hist():\n",
      "    show_fan_hist(fanout, \"Fan out\")"
     ],
     "language": "python",
     "metadata": {},
     "outputs": [],
     "prompt_number": 172
    },
    {
     "cell_type": "code",
     "collapsed": false,
     "input": [
      "def show_page_distance():\n",
      "    page_distances = [(url, distance[c_index]) for (url, c_index) in index.items()]\n",
      "    page_distances_top = sorted(page_distances, key=operator.itemgetter(1))[:20]\n",
      "    print \"Distance from main page\"\n",
      "    for (url, page_distance) in page_distances_top:\n",
      "        print \"%d %s\" % (page_distance, url)"
     ],
     "language": "python",
     "metadata": {},
     "outputs": [],
     "prompt_number": 187
    },
    {
     "cell_type": "code",
     "collapsed": false,
     "input": [
      "def name_by_index(page_index):\n",
      "    for (url, c_index) in index.items():\n",
      "        if c_index == page_index:\n",
      "            return url.replace(root_url, \"\")\n",
      "    return \"<unknown page>\"\n",
      "\n",
      "def show_top_pagerank():\n",
      "    pagerank_top = sorted(pagerank.iteritems(), key=operator.itemgetter(1), reverse=True)[:20]\n",
      "    print \"Top by page rank\"\n",
      "    for (i, item) in enumerate(pagerank_top):\n",
      "        print \"%d %f %s\" % (i, item[1], name_by_index(item[0]))\n",
      "        "
     ],
     "language": "python",
     "metadata": {},
     "outputs": [],
     "prompt_number": 188
    },
    {
     "cell_type": "code",
     "collapsed": false,
     "input": [
      "def show_report():\n",
      "    show_sizes_hist()\n",
      "    show_fan_in_hist()\n",
      "    show_fan_out_hist()\n",
      "    show_page_distance()\n",
      "    show_top_pagerank()\n",
      "    \n",
      "show_report()"
     ],
     "language": "python",
     "metadata": {},
     "outputs": [
      {
       "output_type": "stream",
       "stream": "stdout",
       "text": [
        "Distance from main page\n",
        "0 http://simple.wikipedia.org/wiki/Main_Page\n",
        "1 http://simple.wikipedia.org/wiki/Physics\n",
        "1 http://simple.wikipedia.org/wiki/Communication\n",
        "1 http://simple.wikipedia.org/wiki/Jainism\n",
        "1 http://simple.wikipedia.org/wiki/Culture\n",
        "1 http://simple.wikipedia.org/wiki/Rain\n",
        "1 http://simple.wikipedia.org/wiki/Human_rights\n",
        "1 http://simple.wikipedia.org/wiki/Music\n",
        "1 http://simple.wikipedia.org/wiki/Government\n",
        "1 http://simple.wikipedia.org/wiki/Encyclopedia\n",
        "1 http://simple.wikipedia.org/wiki/Defense\n",
        "1 http://simple.wikipedia.org/wiki/Electronics\n",
        "1 http://simple.wikipedia.org/wiki/History\n",
        "1 http://simple.wikipedia.org/wiki/Leisure\n",
        "1 http://simple.wikipedia.org/wiki/Biology\n",
        "1 http://simple.wikipedia.org/wiki/Law\n",
        "1 http://simple.wikipedia.org/wiki/Radio\n",
        "1 http://simple.wikipedia.org/wiki/Paganism\n",
        "1 http://simple.wikipedia.org/wiki/Atheism\n",
        "1 http://simple.wikipedia.org/wiki/Zoology\n",
        "Top by page rank\n",
        "0 0.053789 /wiki/Main_Page\n",
        "1 0.009244 /wiki/Multimedia\n",
        "2 0.004308 /wiki/Definition\n",
        "3 0.004302 /wiki/United_States\n",
        "4 0.003539 /wiki/Country\n",
        "5 0.003157 /wiki/France\n",
        "6 0.002864 /wiki/United_Kingdom\n",
        "7 0.002821 /wiki/Europe\n",
        "8 0.002787 /wiki/Government\n",
        "9 0.002507 /wiki/Germany\n",
        "10 0.002507 /wiki/Christianity\n",
        "11 0.002502 /wiki/International_Standard_Book_Number\n",
        "12 0.002484 /wiki/Spain"
       ]
      },
      {
       "output_type": "stream",
       "stream": "stdout",
       "text": [
        "\n",
        "13 0.002426 /wiki/English_language\n",
        "14 0.002386 /wiki/Animal\n",
        "15 0.002264 /wiki/Italy\n",
        "16 0.002167 /wiki/Language\n",
        "17 0.002091 /wiki/Law\n",
        "18 0.002051 /wiki/Earth\n",
        "19 0.001997 /wiki/Canada\n"
       ]
      },
      {
       "metadata": {},
       "output_type": "display_data",
       "png": "[encoded data removed]",
       "text": [
        "<matplotlib.figure.Figure at 0x106ed6c90>"
       ]
      },
      {
       "metadata": {},
       "output_type": "display_data",
       "png": "[encoded data removed]",
       "text": [
        "<matplotlib.figure.Figure at 0x109c12c50>"
       ]
      },
      {
       "metadata": {},
       "output_type": "display_data",
       "png": "[encoded data removed]",
       "text": [
        "<matplotlib.figure.Figure at 0x109c12e50>"
       ]
      }
     ],
     "prompt_number": 203
    },
    {
     "cell_type": "code",
     "collapsed": false,
     "input": [],
     "language": "python",
     "metadata": {},
     "outputs": []
    }
   ],
   "metadata": {}
  }
 ]
}